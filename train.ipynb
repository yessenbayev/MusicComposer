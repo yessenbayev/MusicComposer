{
 "cells": [
  {
   "cell_type": "code",
   "execution_count": 1,
   "metadata": {},
   "outputs": [
    {
     "name": "stdout",
     "output_type": "stream",
     "text": [
      "True\n"
     ]
    }
   ],
   "source": [
    "import tensorflow as tf\n",
    "import numpy as np\n",
    "from tensorflow import keras\n",
    "\n",
    "print(tf.test.is_gpu_available())"
   ]
  },
  {
   "cell_type": "code",
   "execution_count": 3,
   "metadata": {},
   "outputs": [
    {
     "name": "stdout",
     "output_type": "stream",
     "text": [
      "(20000, 16, 96, 96)\n"
     ]
    }
   ],
   "source": [
    "from DataGenerator import MidiDataGenerator\n",
    "\n",
    "midi = MidiDataGenerator('./raw', m=16)\n",
    "x_train, pos = midi.samples(size=20000)\n",
    "print(x_train.shape)"
   ]
  },
  {
   "cell_type": "markdown",
   "metadata": {},
   "source": [
    "## Autoencorder"
   ]
  },
  {
   "cell_type": "code",
   "execution_count": 4,
   "metadata": {},
   "outputs": [],
   "source": [
    "x_shape = x_train.shape"
   ]
  },
  {
   "cell_type": "code",
   "execution_count": 5,
   "metadata": {},
   "outputs": [
    {
     "name": "stdout",
     "output_type": "stream",
     "text": [
      "Tensor(\"input_1:0\", shape=(?, 16, 96, 96), dtype=float32)\n",
      "Tensor(\"reshape_2/Reshape:0\", shape=(?, 16, 96, 96), dtype=float32)\n"
     ]
    }
   ],
   "source": [
    "x = keras.layers.Input(shape=x_shape[1:])\n",
    "\n",
    "y = keras.layers.Reshape(target_shape=(x_shape[1], x_shape[2]*x_shape[3]))(x)\n",
    "y = keras.layers.TimeDistributed(keras.layers.Dense(2000, activation='relu'))(y)\n",
    "y = keras.layers.TimeDistributed(keras.layers.Dense(200, activation='relu'))(y)\n",
    "y = keras.layers.Flatten()(y)\n",
    "y = keras.layers.Dense(1600, activation='relu')(y)\n",
    "\n",
    "y = keras.layers.Dense(120)(y)\n",
    "y = keras.layers.BatchNormalization(momentum=0.9)(y)\n",
    "\n",
    "y = keras.layers.Dense(1600, name='encoder')(y)\n",
    "y = keras.layers.BatchNormalization(momentum=0.9)(y)\n",
    "y = keras.layers.Activation('relu')(y)\n",
    "\n",
    "y = keras.layers.Dense(16*200)(y)\n",
    "y = keras.layers.Reshape(target_shape=(16, 200))(y)\n",
    "y = keras.layers.TimeDistributed(keras.layers.BatchNormalization(momentum=0.9))(y)\n",
    "y = keras.layers.Activation('relu')(y)\n",
    "\n",
    "y = keras.layers.TimeDistributed(keras.layers.Dense(2000))(y)\n",
    "y = keras.layers.TimeDistributed(keras.layers.BatchNormalization(momentum=0.9))(y)\n",
    "y = keras.layers.Activation('relu')(y)\n",
    "\n",
    "y = keras.layers.TimeDistributed(keras.layers.Dense(x_shape[2]*x_shape[3], activation='sigmoid'))(y)\n",
    "y = keras.layers.Reshape(target_shape=(x_shape[1], x_shape[2], x_shape[3]))(y)\n",
    "\n",
    "print(x)\n",
    "print(y)"
   ]
  },
  {
   "cell_type": "code",
   "execution_count": 6,
   "metadata": {},
   "outputs": [],
   "source": [
    "autoencorder = keras.Model(x, y)\n",
    "autoencorder.compile(\n",
    "    optimizer=keras.optimizers.RMSprop(lr=1e-3), \n",
    "    loss='binary_crossentropy',\n",
    ")"
   ]
  },
  {
   "cell_type": "code",
   "execution_count": 7,
   "metadata": {},
   "outputs": [
    {
     "name": "stdout",
     "output_type": "stream",
     "text": [
      "Epoch 1/1\n",
      "20000/20000 [==============================] - 40s 2ms/step - loss: 5.5132\n"
     ]
    }
   ],
   "source": [
    "his = autoencorder.fit(x_train, x_train, batch_size=200, epochs=1)"
   ]
  },
  {
   "cell_type": "code",
   "execution_count": null,
   "metadata": {},
   "outputs": [],
   "source": [
    "x_test = midi.samples(size=200)"
   ]
  },
  {
   "cell_type": "code",
   "execution_count": null,
   "metadata": {},
   "outputs": [],
   "source": [
    "y_test = autoencorder.predict(x_test)"
   ]
  },
  {
   "cell_type": "code",
   "execution_count": null,
   "metadata": {},
   "outputs": [],
   "source": [
    "np.round(y_test, 4)"
   ]
  },
  {
   "cell_type": "code",
   "execution_count": 10,
   "metadata": {},
   "outputs": [
    {
     "data": {
      "text/plain": [
       "[5.513155741691589]"
      ]
     },
     "execution_count": 10,
     "metadata": {},
     "output_type": "execute_result"
    }
   ],
   "source": [
    "his.history['loss']"
   ]
  },
  {
   "cell_type": "code",
   "execution_count": null,
   "metadata": {},
   "outputs": [],
   "source": []
  }
 ],
 "metadata": {
  "kernelspec": {
   "display_name": "Python 3",
   "language": "python",
   "name": "python3"
  },
  "language_info": {
   "codemirror_mode": {
    "name": "ipython",
    "version": 3
   },
   "file_extension": ".py",
   "mimetype": "text/x-python",
   "name": "python",
   "nbconvert_exporter": "python",
   "pygments_lexer": "ipython3",
   "version": "3.6.8"
  }
 },
 "nbformat": 4,
 "nbformat_minor": 2
}
